{
 "cells": [
  {
   "cell_type": "code",
   "execution_count": null,
   "id": "e22cd85e-e8ca-4bfd-9419-9d949166f4bb",
   "metadata": {},
   "outputs": [],
   "source": []
  },
  {
   "cell_type": "code",
   "execution_count": 2,
   "id": "6433805c-dbfb-4456-ac52-aac2917b09ad",
   "metadata": {},
   "outputs": [
    {
     "data": {
      "text/plain": [
       "<Figure size 640x480 with 0 Axes>"
      ]
     },
     "metadata": {},
     "output_type": "display_data"
    }
   ],
   "source": [
    "import os\n",
    "import librosa\n",
    "import numpy as np\n",
    "import matplotlib.pyplot as plt\n",
    "\n",
    "# Set the path to the directory containing the WAV files\n",
    "directory = \"/Users/steve/Jupyter_Notebook/Training_Audio\"\n",
    "\n",
    "# Set the path to the directory where the mel spectrograms will be saved\n",
    "output_directory = \"/Users/steve/Jupyter_Notebook/Training_Audio_Spectrograms\"\n",
    "\n",
    "# Set the sample rate and duration (in seconds) of the audio segment that will be used to create the spectrogram\n",
    "sample_rate = 22050\n",
    "duration = 30\n",
    "\n",
    "# Loop through each folder in the directory\n",
    "for folder in os.listdir(directory):\n",
    "    # Create a subdirectory in the output directory for the current folder\n",
    "    subdirectory = os.path.join(output_directory, folder)\n",
    "    os.makedirs(subdirectory, exist_ok=True)\n",
    "    \n",
    "    # Loop through each WAV file in the current folder and its subfolders\n",
    "    for root, _, files in os.walk(os.path.join(directory, folder)):\n",
    "        for file in files:\n",
    "            if file.endswith(\".wav\"):\n",
    "                # Load the audio file and extract the middle segment\n",
    "                audio_path = os.path.join(root, file)\n",
    "                audio, sr = librosa.load(audio_path, sr=sample_rate, mono=True, duration=duration, offset=None)\n",
    "                \n",
    "                # Convert the audio to a mel spectrogram\n",
    "                spectrogram = librosa.feature.melspectrogram(y=audio, sr=sr, n_mels=128)\n",
    "                spectrogram_db = librosa.power_to_db(spectrogram, ref=np.max)\n",
    "                \n",
    "                # Save the spectrogram as a PNG file in the subdirectory\n",
    "                output_path = os.path.join(subdirectory, os.path.splitext(file)[0] + \".png\")\n",
    "                librosa.display.specshow(spectrogram_db, x_axis=\"time\", y_axis=\"mel\", sr=sr, fmax=8000)\n",
    "                plt.axis(\"off\")\n",
    "                plt.savefig(output_path, bbox_inches=\"tight\", pad_inches=0)\n",
    "                plt.clf()\n"
   ]
  }
 ],
 "metadata": {
  "kernelspec": {
   "display_name": "Python 3 (ipykernel)",
   "language": "python",
   "name": "python3"
  },
  "language_info": {
   "codemirror_mode": {
    "name": "ipython",
    "version": 3
   },
   "file_extension": ".py",
   "mimetype": "text/x-python",
   "name": "python",
   "nbconvert_exporter": "python",
   "pygments_lexer": "ipython3",
   "version": "3.10.0"
  }
 },
 "nbformat": 4,
 "nbformat_minor": 5
}
