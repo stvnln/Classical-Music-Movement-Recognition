{
  "cells": [
    {
      "cell_type": "code",
      "execution_count": 51,
      "id": "dfe873a2-8661-4ef7-b361-83559e76f9fd",
      "metadata": {},
      "outputs": [],
      "source": [
        "import os\n",
        "import numpy as np\n",
        "from sklearn.model_selection import train_test_split\n",
        "from sklearn.svm import SVC\n",
        "from sklearn.metrics import f1_score, confusion_matrix\n",
        "from tensorflow.keras.models import Sequential\n",
        "from tensorflow.keras.layers import Embedding, SimpleRNN, Dense, Conv2D, MaxPooling2D, Flatten\n",
        "import seaborn as sns\n",
        "import matplotlib.pyplot as plt\n",
        "from keras.utils import to_categorical\n"
      ]
    },
    {
      "cell_type": "code",
      "execution_count": 52,
      "id": "0dfb571c",
      "metadata": {},
      "outputs": [
        {
          "name": "stdout",
          "output_type": "stream",
          "text": [
            "Validation accuracy: 0.625\n",
            "Validation f1-score: 0.5636363636363637\n"
          ]
        },
        {
          "data": {
            "image/png": "[encoded data removed]",
            "text/plain": [
              "<Figure size 640x480 with 2 Axes>"
            ]
          },
          "metadata": {},
          "output_type": "display_data"
        }
      ],
      "source": [
        "# This is the SVM model\n",
        "def data_generator(data_dir, batch_size):\n",
        "    filenames = [filename for filename in os.listdir(data_dir) if filename.endswith('.npy')]\n",
        "    num_batches = len(filenames) // batch_size\n",
        "    \n",
        "    class_to_int = {\n",
        "        'movement_one': 0,\n",
        "        'movement_two': 1,\n",
        "        'movement_three': 2,\n",
        "        'movement_four': 3\n",
        "    }\n",
        "    for i in range(num_batches):\n",
        "        batch_filenames = filenames[i*batch_size: (i+1)*batch_size]\n",
        "        batch_data = []\n",
        "        batch_labels = []\n",
        "        for filename in batch_filenames:\n",
        "            data = np.load(os.path.join(data_dir, filename))\n",
        "            label_str = '_'.join(filename.split('_')[:2])\n",
        "            label_int = class_to_int[label_str]\n",
        "            batch_data.append(data)\n",
        "            batch_labels.append(label_int)\n",
        "        yield np.array(batch_data), np.array(batch_labels)\n",
        "\n",
        "# Step 1: Define the data generator\n",
        "batch_size = 40\n",
        "data_dir = '/Users/steve/Jupyter_Notebook/Training_Mel'\n",
        "data_gen = data_generator(data_dir, batch_size)\n",
        "\n",
        "# Step 2: Split the dataset into training and validation sets\n",
        "data, labels = next(data_gen)\n",
        "X_train, X_val, y_train, y_val = train_test_split(data, labels, test_size=0.2, random_state=42)\n",
        "\n",
        "# Step 3: Train an SVM model on the training set\n",
        "model = SVC(kernel='rbf')\n",
        "model.fit(X_train.reshape(X_train.shape[0], -1), y_train)\n",
        "\n",
        "# Step 4: Evaluate the model on the validation set\n",
        "acc = model.score(X_val.reshape(X_val.shape[0], -1), y_val)\n",
        "print('Validation accuracy:', acc)\n",
        "\n",
        "# Step 5: Calculate the f1-score on the validation set\n",
        "y_pred = model.predict(X_val.reshape(X_val.shape[0], -1))\n",
        "f1 = f1_score(y_val, y_pred, average='weighted')\n",
        "print('Validation f1-score:', f1)\n",
        "\n",
        "# Step 6: Create a confusion matrix\n",
        "cm = confusion_matrix(y_val, y_pred)\n",
        "\n",
        "# Plot the confusion matrix using Seaborn\n",
        "sns.heatmap(cm, annot=True, cmap=\"Blues\", fmt='g')\n",
        "plt.xlabel('Predicted labels')\n",
        "plt.ylabel('True labels')\n",
        "plt.show()"
      ]
    },
    {
      "cell_type": "code",
      "execution_count": 49,
      "id": "bc792c63-c841-426c-a8ae-f43b812891ee",
      "metadata": {},
      "outputs": [
        {
          "name": "stdout",
          "output_type": "stream",
          "text": [
            "Epoch 1/5\n",
            "1/1 [==============================] - 1s 1s/step - loss: 1.3852 - accuracy: 0.3125\n",
            "Epoch 2/5\n",
            "1/1 [==============================] - 0s 44ms/step - loss: 1.1901 - accuracy: 0.4688\n",
            "Epoch 3/5\n",
            "1/1 [==============================] - 0s 48ms/step - loss: 1.0886 - accuracy: 0.5312\n",
            "Epoch 4/5\n",
            "1/1 [==============================] - 0s 44ms/step - loss: 1.0214 - accuracy: 0.6562\n",
            "Epoch 5/5\n",
            "1/1 [==============================] - 0s 44ms/step - loss: 0.9768 - accuracy: 0.6250\n",
            "WARNING:tensorflow:5 out of the last 5 calls to <function Model.make_test_function.<locals>.test_function at 0x7f959cd29090> triggered tf.function retracing. Tracing is expensive and the excessive number of tracings could be due to (1) creating @tf.function repeatedly in a loop, (2) passing tensors with different shapes, (3) passing Python objects instead of tensors. For (1), please define your @tf.function outside of the loop. For (2), @tf.function has reduce_retracing=True option that can avoid unnecessary retracing. For (3), please refer to https://www.tensorflow.org/guide/function#controlling_retracing and https://www.tensorflow.org/api_docs/python/tf/function for  more details.\n",
            "1/1 [==============================] - 0s 284ms/step - loss: 1.0002 - accuracy: 0.6250\n",
            "Validation accuracy: 0.625\n",
            "WARNING:tensorflow:5 out of the last 5 calls to <function Model.make_predict_function.<locals>.predict_function at 0x7f95aa78d870> triggered tf.function retracing. Tracing is expensive and the excessive number of tracings could be due to (1) creating @tf.function repeatedly in a loop, (2) passing tensors with different shapes, (3) passing Python objects instead of tensors. For (1), please define your @tf.function outside of the loop. For (2), @tf.function has reduce_retracing=True option that can avoid unnecessary retracing. For (3), please refer to https://www.tensorflow.org/guide/function#controlling_retracing and https://www.tensorflow.org/api_docs/python/tf/function for  more details.\n",
            "1/1 [==============================] - 0s 239ms/step\n",
            "Validation f1-score: 0.6190476190476191\n"
          ]
        }
      ],
      "source": [
        "#This is the RNN Model\n",
        "\n",
        "# Step 1: Define the data generator\n",
        "batch_size = 40\n",
        "data_dir = '/Users/steve/Jupyter_Notebook/Training_Mel'\n",
        "data_gen = data_generator(data_dir, batch_size)\n",
        "\n",
        "# Step 2: Split the dataset into training and validation sets\n",
        "data, labels = next(data_gen)\n",
        "X_train, X_val, y_train, y_val = train_test_split(data, labels, test_size=0.2, random_state=42)\n",
        "\n",
        "# Step 3: Define the RNN model\n",
        "model = Sequential()\n",
        "model.add(LSTM(32, input_shape=(X_train.shape[1], X_train.shape[2])))\n",
        "model.add(Dense(4, activation='softmax'))\n",
        "\n",
        "# Step 4: Compile and train the model on the training set\n",
        "model.compile(optimizer='rmsprop', loss='categorical_crossentropy', metrics=['accuracy'])\n",
        "y_train = to_categorical(y_train, num_classes=4)  # One-hot encode the target labels\n",
        "model.fit(X_train, y_train, epochs=5, batch_size=40)\n",
        "\n",
        "# Step 5: Evaluate the model on the validation set\n",
        "y_val = to_categorical(y_val, num_classes=4)  # One-hot encode the target labels\n",
        "loss, acc = model.evaluate(X_val, y_val)\n",
        "print('Validation accuracy:', acc)\n",
        "\n",
        "# Step 6: Calculate the f1-score on the validation set\n",
        "y_pred = model.predict(X_val)\n",
        "y_pred = np.argmax(y_pred, axis=1)\n",
        "f1 = f1_score(y_val.argmax(axis=1), y_pred, average='weighted')\n",
        "print('Validation f1-score:', f1)\n"
      ]
    },
    {
      "cell_type": "code",
      "execution_count": null,
      "id": "164d93e4",
      "metadata": {},
      "outputs": [],
      "source": []
    },
    {
      "cell_type": "code",
      "execution_count": null,
      "id": "6fed2363",
      "metadata": {},
      "outputs": [],
      "source": []
    },
    {
      "cell_type": "code",
      "execution_count": null,
      "id": "165eafa4",
      "metadata": {},
      "outputs": [],
      "source": []
    },
    {
      "cell_type": "code",
      "execution_count": null,
      "id": "eef3cd5c-75e8-4fe2-adf7-823644162e37",
      "metadata": {},
      "outputs": [],
      "source": []
    },
    {
      "cell_type": "code",
      "execution_count": null,
      "id": "5c47b0fb",
      "metadata": {},
      "outputs": [],
      "source": []
    },
    {
      "cell_type": "code",
      "execution_count": null,
      "id": "75aa1e87",
      "metadata": {},
      "outputs": [],
      "source": []
    },
    {
      "cell_type": "code",
      "execution_count": null,
      "id": "93e7ce56",
      "metadata": {},
      "outputs": [],
      "source": []
    },
    {
      "cell_type": "code",
      "execution_count": null,
      "id": "372f504d",
      "metadata": {},
      "outputs": [],
      "source": []
    },
    {
      "cell_type": "code",
      "execution_count": null,
      "id": "3f489231",
      "metadata": {},
      "outputs": [],
      "source": []
    },
    {
      "cell_type": "code",
      "execution_count": null,
      "id": "fbc27eeb",
      "metadata": {
        "scrolled": true
      },
      "outputs": [],
      "source": []
    },
    {
      "cell_type": "code",
      "execution_count": null,
      "id": "7def1140",
      "metadata": {},
      "outputs": [],
      "source": [
        " \n"
      ]
    },
    {
      "cell_type": "code",
      "execution_count": null,
      "id": "47bfa821",
      "metadata": {},
      "outputs": [],
      "source": []
    },
    {
      "cell_type": "code",
      "execution_count": null,
      "id": "cd6f4951",
      "metadata": {},
      "outputs": [],
      "source": []
    },
    {
      "cell_type": "code",
      "execution_count": null,
      "id": "88e17717",
      "metadata": {},
      "outputs": [],
      "source": []
    },
    {
      "cell_type": "code",
      "execution_count": null,
      "id": "e073a86a",
      "metadata": {},
      "outputs": [],
      "source": []
    },
    {
      "cell_type": "code",
      "execution_count": null,
      "id": "6eee4212",
      "metadata": {},
      "outputs": [],
      "source": []
    },
    {
      "cell_type": "code",
      "execution_count": null,
      "id": "d7122e1b",
      "metadata": {},
      "outputs": [],
      "source": []
    },
    {
      "cell_type": "code",
      "execution_count": null,
      "id": "14a1a0e3",
      "metadata": {},
      "outputs": [],
      "source": []
    },
    {
      "cell_type": "code",
      "execution_count": null,
      "id": "6489e243",
      "metadata": {},
      "outputs": [],
      "source": []
    },
    {
      "cell_type": "code",
      "execution_count": null,
      "id": "17215352",
      "metadata": {},
      "outputs": [],
      "source": []
    },
    {
      "cell_type": "code",
      "execution_count": null,
      "id": "5a7c51df",
      "metadata": {},
      "outputs": [],
      "source": []
    }
  ],
  "metadata": {
    "kernelspec": {
      "display_name": "Python 3 (ipykernel)",
      "language": "python",
      "name": "python3"
    },
    "language_info": {
      "codemirror_mode": {
        "name": "ipython",
        "version": 3
      },
      "file_extension": ".py",
      "mimetype": "text/x-python",
      "name": "python",
      "nbconvert_exporter": "python",
      "pygments_lexer": "ipython3",
      "version": "3.10.0"
    }
  },
  "nbformat": 4,
  "nbformat_minor": 5
}
